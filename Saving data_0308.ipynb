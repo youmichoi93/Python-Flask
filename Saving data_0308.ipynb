{
 "cells": [
  {
   "cell_type": "code",
   "execution_count": null,
   "metadata": {},
   "outputs": [
    {
     "name": "stdout",
     "output_type": "stream",
     "text": [
      " * Serving Flask app \"__main__\" (lazy loading)\n",
      " * Environment: production\n",
      "   WARNING: This is a development server. Do not use it in a production deployment.\n",
      "   Use a production WSGI server instead.\n",
      " * Debug mode: off\n"
     ]
    },
    {
     "name": "stderr",
     "output_type": "stream",
     "text": [
      " * Running on http://127.0.0.1:5000/ (Press CTRL+C to quit)\n",
      "127.0.0.1 - - [10/Mar/2021 22:12:31] \"\u001b[37mGET / HTTP/1.1\u001b[0m\" 200 -\n",
      "127.0.0.1 - - [10/Mar/2021 22:12:33] \"\u001b[37mPOST /search4 HTTP/1.1\u001b[0m\" 200 -\n",
      "127.0.0.1 - - [10/Mar/2021 22:12:36] \"\u001b[37mGET /viewlog HTTP/1.1\u001b[0m\" 200 -\n"
     ]
    }
   ],
   "source": [
    "from flask import Flask, render_template, request, escape\n",
    "from vsearch import search4letters\n",
    "\n",
    "app = Flask(__name__)\n",
    "\n",
    "# 로그 기록 함수\n",
    "def log_request(req: 'flask_request', res: str) -> None:\n",
    "    \"\"\"Log details of the web request and the results.\"\"\"\n",
    "    with open('vsearch.log', 'a') as log:\n",
    "        print(req, res, file=log)\n",
    "        \n",
    "@app.route('/search4', methods=['POST'])\n",
    "def do_search() -> 'html':\n",
    "    \"\"\"Extract the posted data; perform the search; return results.\"\"\"\n",
    "    phrase = request.form['phrase']\n",
    "    letters = request.form['letters']\n",
    "    title = 'Here are your results:'\n",
    "    results = str(search4letters(phrase, letters))\n",
    "    log_request(request, results)  # log 기록 함수 호출\n",
    "    return render_template('results.html',\n",
    "                           the_title=title,\n",
    "                           the_phrase=phrase,\n",
    "                           the_letters=letters,\n",
    "                           the_results=results,)\n",
    "@app.route('/')\n",
    "@app.route('/entry')\n",
    "def entry_page() -> 'html':\n",
    "    \"\"\"Display this webapp's HTML form.\"\"\"\n",
    "    return render_template('entry.html',\n",
    "                           the_title='Welcome to search4letters on the web!')\n",
    "\n",
    "\n",
    "    \n",
    "@app.route('/viewlog')\n",
    "def view_the_log() -> 'html':\n",
    "    contents = []\n",
    "    with open('vsearch.log') as log:\n",
    "        for line in log:\n",
    "            contents.append([])\n",
    "            for item in line.split('|'):\n",
    "                contents[-1].append(escape(item))\n",
    "    titles = ('Form Data', 'Remote_addr', 'User_agent', 'Results')           \n",
    "    return render_template('viewlog.html',\n",
    "                           the_title='View Log',\n",
    "                           the_row_titles=titles,\n",
    "                           the_data=contents,)\n",
    "                \n",
    "    \n",
    "    \n",
    "def log_request(req:'flask_request', res:str) -> None:\n",
    "    with open('vsearch.log','a') as log:\n",
    "        print(req.form, req.remote_addr, req.user_agent, res, file=log, sep='|')\n",
    "      \n",
    "    \n",
    "    \n",
    "    \n",
    "if __name__ == '__main__':\n",
    "    app.run()\n"
   ]
  },
  {
   "cell_type": "code",
   "execution_count": null,
   "metadata": {},
   "outputs": [],
   "source": []
  }
 ],
 "metadata": {
  "kernelspec": {
   "display_name": "Python 3",
   "language": "python",
   "name": "python3"
  },
  "language_info": {
   "codemirror_mode": {
    "name": "ipython",
    "version": 3
   },
   "file_extension": ".py",
   "mimetype": "text/x-python",
   "name": "python",
   "nbconvert_exporter": "python",
   "pygments_lexer": "ipython3",
   "version": "3.8.5"
  }
 },
 "nbformat": 4,
 "nbformat_minor": 4
}
