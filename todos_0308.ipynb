{
 "cells": [
  {
   "cell_type": "code",
   "execution_count": 1,
   "metadata": {},
   "outputs": [],
   "source": [
    "todos = open('todos.txt','a')\n",
    "print('Put out the trash.', file=todos)\n",
    "print('Feed the cat.', file=todos)\n",
    "print('Prepare tax return.', file=todos)\n",
    "todos.close()"
   ]
  },
  {
   "cell_type": "code",
   "execution_count": 4,
   "metadata": {},
   "outputs": [
    {
     "name": "stdout",
     "output_type": "stream",
     "text": [
      "Put out the trash.\n",
      "Feed the cat.\n",
      "Prepare tax return.\n"
     ]
    }
   ],
   "source": [
    "tasks = open('todos.txt')\n",
    "for chore in tasks:\n",
    "    print(chore, end='')\n"
   ]
  },
  {
   "cell_type": "code",
   "execution_count": 3,
   "metadata": {},
   "outputs": [],
   "source": [
    "tasks.close()"
   ]
  },
  {
   "cell_type": "code",
   "execution_count": 6,
   "metadata": {},
   "outputs": [
    {
     "name": "stdout",
     "output_type": "stream",
     "text": [
      "Put out the trash.\n",
      "Feed the cat.\n",
      "Prepare tax return.\n"
     ]
    }
   ],
   "source": [
    "with open('todos.txt')as tasks:\n",
    "    for chore in tasks:\n",
    "        print(chore, end='')"
   ]
  },
  {
   "cell_type": "code",
   "execution_count": null,
   "metadata": {},
   "outputs": [],
   "source": []
  }
 ],
 "metadata": {
  "kernelspec": {
   "display_name": "Python 3",
   "language": "python",
   "name": "python3"
  },
  "language_info": {
   "codemirror_mode": {
    "name": "ipython",
    "version": 3
   },
   "file_extension": ".py",
   "mimetype": "text/x-python",
   "name": "python",
   "nbconvert_exporter": "python",
   "pygments_lexer": "ipython3",
   "version": "3.8.5"
  }
 },
 "nbformat": 4,
 "nbformat_minor": 4
}
