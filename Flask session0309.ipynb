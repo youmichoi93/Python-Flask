{
 "cells": [
  {
   "cell_type": "code",
   "execution_count": 1,
   "metadata": {},
   "outputs": [
    {
     "name": "stdout",
     "output_type": "stream",
     "text": [
      " * Serving Flask app \"__main__\" (lazy loading)\n",
      " * Environment: production\n",
      "   WARNING: This is a development server. Do not use it in a production deployment.\n",
      "   Use a production WSGI server instead.\n",
      " * Debug mode: off\n"
     ]
    },
    {
     "name": "stderr",
     "output_type": "stream",
     "text": [
      " * Running on http://127.0.0.1:5000/ (Press CTRL+C to quit)\n",
      "127.0.0.1 - - [09/Mar/2021 12:31:43] \"\u001b[33mGET / HTTP/1.1\u001b[0m\" 404 -\n",
      "127.0.0.1 - - [09/Mar/2021 12:31:43] \"\u001b[33mGET /favicon.ico HTTP/1.1\u001b[0m\" 404 -\n",
      "127.0.0.1 - - [09/Mar/2021 12:32:00] \"\u001b[37mGET /setuser/Bob HTTP/1.1\u001b[0m\" 200 -\n",
      "127.0.0.1 - - [09/Mar/2021 12:32:09] \"\u001b[37mGET /getuser HTTP/1.1\u001b[0m\" 200 -\n",
      "127.0.0.1 - - [09/Mar/2021 12:32:31] \"\u001b[37mGET /setuser/Alice HTTP/1.1\u001b[0m\" 200 -\n",
      "127.0.0.1 - - [09/Mar/2021 12:32:31] \"\u001b[33mGET /favicon.ico HTTP/1.1\u001b[0m\" 404 -\n",
      "127.0.0.1 - - [09/Mar/2021 12:32:37] \"\u001b[37mGET /getuser HTTP/1.1\u001b[0m\" 200 -\n"
     ]
    }
   ],
   "source": [
    "from flask import Flask, session\n",
    "app = Flask(__name__)\n",
    "app.secret_key = 'YouWillNeverGuess'\n",
    "\n",
    "@app.route('/setuser/<user>')\n",
    "def setuser(user: str) -> str:\n",
    "    session['user'] = user\n",
    "    return 'User value set to: ' + session['user']\n",
    "\n",
    "@app.route('/getuser')\n",
    "def getuser() -> str:\n",
    "    return 'User value is currently set to: ' +  session['user']\n",
    "\n",
    "if __name__ == '__main__':\n",
    "    app.run()\n",
    "\n"
   ]
  },
  {
   "cell_type": "code",
   "execution_count": 7,
   "metadata": {},
   "outputs": [
    {
     "name": "stdout",
     "output_type": "stream",
     "text": [
      " * Serving Flask app \"__main__\" (lazy loading)\n",
      " * Environment: production\n",
      "   WARNING: This is a development server. Do not use it in a production deployment.\n",
      "   Use a production WSGI server instead.\n",
      " * Debug mode: off\n"
     ]
    },
    {
     "name": "stderr",
     "output_type": "stream",
     "text": [
      " * Running on http://127.0.0.1:5000/ (Press CTRL+C to quit)\n",
      "127.0.0.1 - - [09/Mar/2021 12:45:54] \"\u001b[37mGET / HTTP/1.1\u001b[0m\" 200 -\n",
      "127.0.0.1 - - [09/Mar/2021 12:46:13] \"\u001b[37mGET /page1 HTTP/1.1\u001b[0m\" 200 -\n"
     ]
    }
   ],
   "source": [
    "from flask import Flask\n",
    "app = Flask(__name__)\n",
    "\n",
    "@app.route('/')\n",
    "def hello() -> str:\n",
    "    return 'Hello from the simple webapp.'\n",
    "\n",
    "@app.route('/page1')\n",
    "def page1() -> str:\n",
    "    return 'This is page1.'\n",
    "\n",
    "@app.route('/page2')\n",
    "def page2() -> str:\n",
    "    return 'This is page2.'\n",
    "\n",
    "@app.route('/page3')\n",
    "def page3() -> str:\n",
    "    return 'This is page3.'\n",
    "\n",
    "if __name__ == '__main__':\n",
    "    app.run()\n",
    "\n",
    "\n"
   ]
  },
  {
   "cell_type": "code",
   "execution_count": 8,
   "metadata": {},
   "outputs": [
    {
     "name": "stdout",
     "output_type": "stream",
     "text": [
      " * Serving Flask app \"__main__\" (lazy loading)\n",
      " * Environment: production\n",
      "   WARNING: This is a development server. Do not use it in a production deployment.\n",
      "   Use a production WSGI server instead.\n",
      " * Debug mode: off\n"
     ]
    },
    {
     "name": "stderr",
     "output_type": "stream",
     "text": [
      " * Running on http://127.0.0.1:5000/ (Press CTRL+C to quit)\n",
      "127.0.0.1 - - [09/Mar/2021 12:52:17] \"\u001b[37mGET / HTTP/1.1\u001b[0m\" 200 -\n",
      "127.0.0.1 - - [09/Mar/2021 12:52:25] \"\u001b[37mGET /login HTTP/1.1\u001b[0m\" 200 -\n"
     ]
    }
   ],
   "source": [
    "from flask import Flask, session\n",
    "app = Flask(__name__)\n",
    "\n",
    "@app.route('/')\n",
    "def hello() -> str:\n",
    "    return 'Hello from the simple webapp.'\n",
    "\n",
    "@app.route('/page1')\n",
    "def page1() -> str:\n",
    "    return 'This is page1.'\n",
    "\n",
    "@app.route('/page2')\n",
    "def page2() -> str:\n",
    "    return 'This is page2.'\n",
    "\n",
    "@app.route('/page3')\n",
    "def page3() -> str:\n",
    "    return 'This is page3.'\n",
    "\n",
    "\n",
    "@app.route('/login')\n",
    "def do_log() -> str:\n",
    "    session['logged_in'] = True\n",
    "    return 'You are now longged in.'\n",
    "\n",
    "app.secret_key = 'YouWillNeverGuessMySecretkey'\n",
    "\n",
    "if __name__ == '__main__':\n",
    "    app.run()"
   ]
  },
  {
   "cell_type": "code",
   "execution_count": null,
   "metadata": {},
   "outputs": [
    {
     "name": "stdout",
     "output_type": "stream",
     "text": [
      " * Serving Flask app \"__main__\" (lazy loading)\n",
      " * Environment: production\n",
      "   WARNING: This is a development server. Do not use it in a production deployment.\n",
      "   Use a production WSGI server instead.\n",
      " * Debug mode: off\n"
     ]
    },
    {
     "name": "stderr",
     "output_type": "stream",
     "text": [
      " * Running on http://127.0.0.1:5000/ (Press CTRL+C to quit)\n",
      "127.0.0.1 - - [09/Mar/2021 13:00:08] \"\u001b[37mGET / HTTP/1.1\u001b[0m\" 200 -\n",
      "127.0.0.1 - - [09/Mar/2021 13:00:21] \"\u001b[37mGET /login HTTP/1.1\u001b[0m\" 200 -\n",
      "127.0.0.1 - - [09/Mar/2021 13:00:59] \"\u001b[37mGET /login HTTP/1.1\u001b[0m\" 200 -\n",
      "127.0.0.1 - - [09/Mar/2021 13:01:07] \"\u001b[37mGET /status HTTP/1.1\u001b[0m\" 200 -\n",
      "127.0.0.1 - - [09/Mar/2021 13:01:18] \"\u001b[37mGET /status HTTP/1.1\u001b[0m\" 200 -\n",
      "127.0.0.1 - - [09/Mar/2021 13:01:46] \"\u001b[37mGET /login HTTP/1.1\u001b[0m\" 200 -\n",
      "127.0.0.1 - - [09/Mar/2021 13:01:55] \"\u001b[37mGET /status HTTP/1.1\u001b[0m\" 200 -\n",
      "127.0.0.1 - - [09/Mar/2021 13:02:06] \"\u001b[37mGET /status HTTP/1.1\u001b[0m\" 200 -\n",
      "127.0.0.1 - - [09/Mar/2021 13:02:06] \"\u001b[33mGET /favicon.ico HTTP/1.1\u001b[0m\" 404 -\n",
      "127.0.0.1 - - [09/Mar/2021 13:02:19] \"\u001b[37mGET /login HTTP/1.1\u001b[0m\" 200 -\n",
      "127.0.0.1 - - [09/Mar/2021 13:02:31] \"\u001b[33mGET /search4 HTTP/1.1\u001b[0m\" 404 -\n",
      "127.0.0.1 - - [09/Mar/2021 13:02:32] \"\u001b[37mGET /status HTTP/1.1\u001b[0m\" 200 -\n",
      "127.0.0.1 - - [09/Mar/2021 13:02:38] \"\u001b[37mGET /logout HTTP/1.1\u001b[0m\" 200 -\n",
      "127.0.0.1 - - [09/Mar/2021 13:02:43] \"\u001b[37mGET /status HTTP/1.1\u001b[0m\" 200 -\n",
      "127.0.0.1 - - [09/Mar/2021 13:03:08] \"\u001b[37mGET /login HTTP/1.1\u001b[0m\" 200 -\n",
      "127.0.0.1 - - [09/Mar/2021 13:03:24] \"\u001b[37mGET /login HTTP/1.1\u001b[0m\" 200 -\n",
      "127.0.0.1 - - [09/Mar/2021 13:03:28] \"\u001b[37mGET /status HTTP/1.1\u001b[0m\" 200 -\n",
      "127.0.0.1 - - [09/Mar/2021 13:03:42] \"\u001b[37mGET /logout HTTP/1.1\u001b[0m\" 200 -\n",
      "127.0.0.1 - - [09/Mar/2021 13:08:51] \"\u001b[37mGET / HTTP/1.1\u001b[0m\" 200 -\n",
      "127.0.0.1 - - [09/Mar/2021 13:09:02] \"\u001b[37mGET / HTTP/1.1\u001b[0m\" 200 -\n",
      "127.0.0.1 - - [09/Mar/2021 13:09:10] \"\u001b[33mGET /viewlog HTTP/1.1\u001b[0m\" 404 -\n",
      "127.0.0.1 - - [09/Mar/2021 13:10:06] \"\u001b[37mGET / HTTP/1.1\u001b[0m\" 200 -\n",
      "127.0.0.1 - - [09/Mar/2021 13:10:12] \"\u001b[33mGET /viewlog HTTP/1.1\u001b[0m\" 404 -\n",
      "127.0.0.1 - - [09/Mar/2021 13:12:54] \"\u001b[37mGET / HTTP/1.1\u001b[0m\" 200 -\n",
      "127.0.0.1 - - [09/Mar/2021 13:12:54] \"\u001b[33mGET /favicon.ico HTTP/1.1\u001b[0m\" 404 -\n",
      "127.0.0.1 - - [09/Mar/2021 13:13:00] \"\u001b[33mGET /viewlog HTTP/1.1\u001b[0m\" 404 -\n"
     ]
    }
   ],
   "source": [
    "from flask import Flask, session\n",
    "app = Flask(__name__)\n",
    "\n",
    "@app.route('/')\n",
    "def hello() -> str:\n",
    "    return 'Hello from the simple webapp.'\n",
    "\n",
    "@app.route('/page1')\n",
    "def page1() -> str:\n",
    "    return 'This is page1.'\n",
    "\n",
    "@app.route('/page2')\n",
    "def page2() -> str:\n",
    "    return 'This is page2.'\n",
    "\n",
    "@app.route('/page3')\n",
    "def page3() -> str:\n",
    "    return 'This is page3.'\n",
    "\n",
    "\n",
    "@app.route('/login')\n",
    "def do_log() -> str:\n",
    "    session['logged_in'] = True\n",
    "    return 'You are now longged in.'\n",
    "\n",
    "@app.route('/logout')\n",
    "def do_logout() -> str:\n",
    "    session.pop('logged_in')\n",
    "    return 'You are now longged out.'\n",
    "\n",
    "@app.route('/status')\n",
    "def check_status() -> str:\n",
    "    if 'logged_in' in session:\n",
    "        return 'You are currently longged in.'\n",
    "    return 'You are NOT logged in.'\n",
    "\n",
    "app.secret_key = 'YouWillNeverGuessMySecretkey'\n",
    "\n",
    "if __name__ == '__main__':\n",
    "    app.run()"
   ]
  },
  {
   "cell_type": "code",
   "execution_count": null,
   "metadata": {},
   "outputs": [],
   "source": []
  }
 ],
 "metadata": {
  "kernelspec": {
   "display_name": "Python 3",
   "language": "python",
   "name": "python3"
  },
  "language_info": {
   "codemirror_mode": {
    "name": "ipython",
    "version": 3
   },
   "file_extension": ".py",
   "mimetype": "text/x-python",
   "name": "python",
   "nbconvert_exporter": "python",
   "pygments_lexer": "ipython3",
   "version": "3.8.5"
  }
 },
 "nbformat": 4,
 "nbformat_minor": 4
}
